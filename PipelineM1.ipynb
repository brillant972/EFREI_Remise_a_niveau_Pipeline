{
 "cells": [
  {
   "cell_type": "markdown",
   "metadata": {},
   "source": [
    "## Étape 2 : Extraction des données avec Python"
   ]
  },
  {
   "cell_type": "markdown",
   "metadata": {},
   "source": [
    "1. Installation de la bibliothèque PyMySql"
   ]
  },
  {
   "cell_type": "code",
   "execution_count": 47,
   "metadata": {},
   "outputs": [
    {
     "name": "stdout",
     "output_type": "stream",
     "text": [
      "Defaulting to user installation because normal site-packages is not writeable\n",
      "Requirement already satisfied: PyMySql in c:\\users\\brbon\\appdata\\local\\packages\\pythonsoftwarefoundation.python.3.12_qbz5n2kfra8p0\\localcache\\local-packages\\python312\\site-packages (1.1.1)\n",
      "Note: you may need to restart the kernel to use updated packages.\n"
     ]
    }
   ],
   "source": [
    "pip install PyMySql"
   ]
  },
  {
   "cell_type": "markdown",
   "metadata": {},
   "source": [
    "2. Importation de PyMySql"
   ]
  },
  {
   "cell_type": "code",
   "execution_count": 2,
   "metadata": {},
   "outputs": [],
   "source": [
    "import pymysql"
   ]
  },
  {
   "cell_type": "markdown",
   "metadata": {},
   "source": [
    "3. Connexion à la base de données"
   ]
  },
  {
   "cell_type": "code",
   "execution_count": 3,
   "metadata": {},
   "outputs": [],
   "source": [
    "conn = pymysql.connect(\n",
    "  host=\"localhost\",\n",
    "  user=\"root\",\n",
    "  password=\"root\",\n",
    "  database=\"ecole\"\n",
    ")"
   ]
  },
  {
   "cell_type": "markdown",
   "metadata": {},
   "source": [
    "##### Extraction des données"
   ]
  },
  {
   "cell_type": "code",
   "execution_count": 5,
   "metadata": {},
   "outputs": [
    {
     "name": "stdout",
     "output_type": "stream",
     "text": [
      "((1, 'Mark', 'Watney', None, '777-555-1234', None, 2035, 5),)\n",
      "((1, 'Jonas', 'Salk', None, 'Biologie', None, 'jsalk@school.org', '777-555-4321', 5),)\n"
     ]
    }
   ],
   "source": [
    "# Creation du curseur\n",
    "mycursor = conn.cursor()\n",
    "\n",
    "# Exécution d'une requête SQL pour extraire les données de la table \"eleves\"\n",
    "mycursor.execute(\"SELECT * FROM etudiants\")\n",
    "# Récupération des résultats de la requete précédente\n",
    "all_etu=mycursor.fetchall()\n",
    "\n",
    "# Exécution d'une requête SQL pour extraire les données de la table \"enseignats\"\n",
    "mycursor.execute(\"SELECT * FROM enseignants\")\n",
    "# Récupération des résultats de la requete précédente\n",
    "all_prof=mycursor.fetchall()\n",
    "\n",
    "# Affichage des données récupérées\n",
    "print(all_etu)\n",
    "print(all_prof)"
   ]
  },
  {
   "cell_type": "markdown",
   "metadata": {},
   "source": [
    "## Étape 3 : Manipulation des données"
   ]
  },
  {
   "cell_type": "code",
   "execution_count": 6,
   "metadata": {},
   "outputs": [
    {
     "name": "stdout",
     "output_type": "stream",
     "text": [
      "Associations élèves - enseignants :\n",
      "L'elève : Mark Watney à pour enseignant : Jonas Salk\n"
     ]
    }
   ],
   "source": [
    "associations = []\n",
    "for etudiant in all_etu:\n",
    "    for enseignant in all_prof:\n",
    "        #print(etudiant[7],enseignant[8])\n",
    "        if etudiant[7] == enseignant[8]: \n",
    "            associations.append((etudiant[1], etudiant[2], enseignant[1], enseignant[2]))\n",
    "\n",
    "print(f\"Associations élèves - enseignants :\")\n",
    "for asso in associations:\n",
    "    print(f\"L'elève : {asso[0]} {asso[1]} à pour enseignant : {asso[2]} {asso[3]}\")\n"
   ]
  },
  {
   "cell_type": "markdown",
   "metadata": {},
   "source": [
    "## Étape 4 : Analyse des données"
   ]
  },
  {
   "cell_type": "code",
   "execution_count": 7,
   "metadata": {},
   "outputs": [
    {
     "name": "stdout",
     "output_type": "stream",
     "text": [
      "L'enseignant Jonas Salk a 1 élève(s).\n"
     ]
    }
   ],
   "source": [
    "compteur_enseignants = {}\n",
    "for enseignant in all_prof:\n",
    "    info_prof = (enseignant[1], enseignant[2])\n",
    "    if info_prof in compteur_enseignants:\n",
    "        compteur_enseignants[info_prof] += 1 # Si déjà dans le dico on ajoute 1\n",
    "    else:\n",
    "        compteur_enseignants[info_prof] = 1  # Sinon on ajoute le prof et on débuta à 1\n",
    "\n",
    "for info_prof, count in compteur_enseignants.items():\n",
    "    print(f\"L'enseignant {info_prof[0]} {info_prof[1]} a {count} élève(s).\")"
   ]
  },
  {
   "cell_type": "code",
   "execution_count": 8,
   "metadata": {},
   "outputs": [],
   "source": [
    "# Fermeture curseur et connexion\n",
    "mycursor.close() \n",
    "conn.close() "
   ]
  }
 ],
 "metadata": {
  "kernelspec": {
   "display_name": "Python 3",
   "language": "python",
   "name": "python3"
  },
  "language_info": {
   "codemirror_mode": {
    "name": "ipython",
    "version": 3
   },
   "file_extension": ".py",
   "mimetype": "text/x-python",
   "name": "python",
   "nbconvert_exporter": "python",
   "pygments_lexer": "ipython3",
   "version": "3.12.6"
  }
 },
 "nbformat": 4,
 "nbformat_minor": 2
}
